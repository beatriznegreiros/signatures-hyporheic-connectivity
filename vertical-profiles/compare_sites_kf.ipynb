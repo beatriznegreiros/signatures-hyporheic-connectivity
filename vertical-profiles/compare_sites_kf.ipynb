{
 "cells": [
  {
   "cell_type": "code",
   "execution_count": 14,
   "id": "e2c6485b-8668-4629-88c0-8b58e35b1959",
   "metadata": {},
   "outputs": [
    {
     "data": {
      "text/html": [
       "<div>\n",
       "<style scoped>\n",
       "    .dataframe tbody tr th:only-of-type {\n",
       "        vertical-align: middle;\n",
       "    }\n",
       "\n",
       "    .dataframe tbody tr th {\n",
       "        vertical-align: top;\n",
       "    }\n",
       "\n",
       "    .dataframe thead th {\n",
       "        text-align: right;\n",
       "    }\n",
       "</style>\n",
       "<table border=\"1\" class=\"dataframe\">\n",
       "  <thead>\n",
       "    <tr style=\"text-align: right;\">\n",
       "      <th></th>\n",
       "      <th>Unnamed: 0</th>\n",
       "      <th>sample</th>\n",
       "      <th>site_name</th>\n",
       "      <th>depth</th>\n",
       "      <th>depth_sat_zone</th>\n",
       "      <th>wl_only_unsat</th>\n",
       "      <th>Wooster et al. (2008) [Estimated kf]</th>\n",
       "      <th>depth_rounded</th>\n",
       "    </tr>\n",
       "  </thead>\n",
       "  <tbody>\n",
       "    <tr>\n",
       "      <th>0</th>\n",
       "      <td>0</td>\n",
       "      <td>A-1</td>\n",
       "      <td>A</td>\n",
       "      <td>0.86</td>\n",
       "      <td>0.601167</td>\n",
       "      <td>-0.258833</td>\n",
       "      <td>0.002522</td>\n",
       "      <td>0.86</td>\n",
       "    </tr>\n",
       "    <tr>\n",
       "      <th>1</th>\n",
       "      <td>1</td>\n",
       "      <td>A-1</td>\n",
       "      <td>A</td>\n",
       "      <td>0.83</td>\n",
       "      <td>0.571167</td>\n",
       "      <td>-0.258833</td>\n",
       "      <td>0.003026</td>\n",
       "      <td>0.83</td>\n",
       "    </tr>\n",
       "    <tr>\n",
       "      <th>2</th>\n",
       "      <td>2</td>\n",
       "      <td>A-1</td>\n",
       "      <td>A</td>\n",
       "      <td>0.80</td>\n",
       "      <td>0.541167</td>\n",
       "      <td>-0.258833</td>\n",
       "      <td>0.001983</td>\n",
       "      <td>0.80</td>\n",
       "    </tr>\n",
       "    <tr>\n",
       "      <th>3</th>\n",
       "      <td>3</td>\n",
       "      <td>A-1</td>\n",
       "      <td>A</td>\n",
       "      <td>0.74</td>\n",
       "      <td>0.481167</td>\n",
       "      <td>-0.258833</td>\n",
       "      <td>0.002326</td>\n",
       "      <td>0.74</td>\n",
       "    </tr>\n",
       "    <tr>\n",
       "      <th>4</th>\n",
       "      <td>4</td>\n",
       "      <td>A-1</td>\n",
       "      <td>A</td>\n",
       "      <td>0.71</td>\n",
       "      <td>0.451167</td>\n",
       "      <td>-0.258833</td>\n",
       "      <td>0.001117</td>\n",
       "      <td>0.71</td>\n",
       "    </tr>\n",
       "    <tr>\n",
       "      <th>...</th>\n",
       "      <td>...</td>\n",
       "      <td>...</td>\n",
       "      <td>...</td>\n",
       "      <td>...</td>\n",
       "      <td>...</td>\n",
       "      <td>...</td>\n",
       "      <td>...</td>\n",
       "      <td>...</td>\n",
       "    </tr>\n",
       "    <tr>\n",
       "      <th>228</th>\n",
       "      <td>229</td>\n",
       "      <td>H-4</td>\n",
       "      <td>H</td>\n",
       "      <td>0.23</td>\n",
       "      <td>0.230000</td>\n",
       "      <td>NaN</td>\n",
       "      <td>0.001988</td>\n",
       "      <td>0.23</td>\n",
       "    </tr>\n",
       "    <tr>\n",
       "      <th>229</th>\n",
       "      <td>230</td>\n",
       "      <td>H-4</td>\n",
       "      <td>H</td>\n",
       "      <td>0.17</td>\n",
       "      <td>0.170000</td>\n",
       "      <td>NaN</td>\n",
       "      <td>0.002120</td>\n",
       "      <td>0.17</td>\n",
       "    </tr>\n",
       "    <tr>\n",
       "      <th>230</th>\n",
       "      <td>231</td>\n",
       "      <td>H-4</td>\n",
       "      <td>H</td>\n",
       "      <td>0.11</td>\n",
       "      <td>0.110000</td>\n",
       "      <td>NaN</td>\n",
       "      <td>0.001518</td>\n",
       "      <td>0.11</td>\n",
       "    </tr>\n",
       "    <tr>\n",
       "      <th>231</th>\n",
       "      <td>232</td>\n",
       "      <td>H-4</td>\n",
       "      <td>H</td>\n",
       "      <td>0.05</td>\n",
       "      <td>0.050000</td>\n",
       "      <td>NaN</td>\n",
       "      <td>0.001319</td>\n",
       "      <td>0.05</td>\n",
       "    </tr>\n",
       "    <tr>\n",
       "      <th>232</th>\n",
       "      <td>233</td>\n",
       "      <td>H-4</td>\n",
       "      <td>H</td>\n",
       "      <td>0.02</td>\n",
       "      <td>0.020000</td>\n",
       "      <td>NaN</td>\n",
       "      <td>0.001433</td>\n",
       "      <td>0.02</td>\n",
       "    </tr>\n",
       "  </tbody>\n",
       "</table>\n",
       "<p>233 rows × 8 columns</p>\n",
       "</div>"
      ],
      "text/plain": [
       "     Unnamed: 0 sample site_name  depth  depth_sat_zone  wl_only_unsat  \\\n",
       "0             0    A-1         A   0.86        0.601167      -0.258833   \n",
       "1             1    A-1         A   0.83        0.571167      -0.258833   \n",
       "2             2    A-1         A   0.80        0.541167      -0.258833   \n",
       "3             3    A-1         A   0.74        0.481167      -0.258833   \n",
       "4             4    A-1         A   0.71        0.451167      -0.258833   \n",
       "..          ...    ...       ...    ...             ...            ...   \n",
       "228         229    H-4         H   0.23        0.230000            NaN   \n",
       "229         230    H-4         H   0.17        0.170000            NaN   \n",
       "230         231    H-4         H   0.11        0.110000            NaN   \n",
       "231         232    H-4         H   0.05        0.050000            NaN   \n",
       "232         233    H-4         H   0.02        0.020000            NaN   \n",
       "\n",
       "     Wooster et al. (2008) [Estimated kf]  depth_rounded  \n",
       "0                                0.002522           0.86  \n",
       "1                                0.003026           0.83  \n",
       "2                                0.001983           0.80  \n",
       "3                                0.002326           0.74  \n",
       "4                                0.001117           0.71  \n",
       "..                                    ...            ...  \n",
       "228                              0.001988           0.23  \n",
       "229                              0.002120           0.17  \n",
       "230                              0.001518           0.11  \n",
       "231                              0.001319           0.05  \n",
       "232                              0.001433           0.02  \n",
       "\n",
       "[233 rows x 8 columns]"
      ]
     },
     "execution_count": 14,
     "metadata": {},
     "output_type": "execute_result"
    }
   ],
   "source": [
    "import pandas as pd\n",
    "from scipy.stats import kruskal\n",
    "import matplotlib.pyplot as plt\n",
    "\n",
    "df_slurp = pd.read_csv('data/merged_slurp_sed.csv')\n",
    "df_kf = pd.read_excel('data/kfs-slurp.xlsx', engine='openpyxl')\n",
    "\n",
    "# Optionally, round 'depth' columns to avoid float precision issues\n",
    "df_slurp['depth_rounded'] = df_slurp['depth'].round(3)\n",
    "df_kf['depth_rounded'] = df_kf['depth'].round(3)\n",
    "\n",
    "df_kf"
   ]
  },
  {
   "cell_type": "code",
   "execution_count": 15,
   "id": "35e0aa4f-70fd-49ea-8c0c-73f506c0296a",
   "metadata": {},
   "outputs": [
    {
     "data": {
      "text/plain": [
       "0      0.391167\n",
       "1      0.421167\n",
       "2      0.451167\n",
       "3      0.481167\n",
       "4      0.541167\n",
       "         ...   \n",
       "230    0.170000\n",
       "231    0.230000\n",
       "232    0.290000\n",
       "233    0.350000\n",
       "234    0.410000\n",
       "Name: depth_sat_zone, Length: 235, dtype: float64"
      ]
     },
     "execution_count": 15,
     "metadata": {},
     "output_type": "execute_result"
    }
   ],
   "source": [
    "# Perform the merge on 'sample' and rounded 'depth'\n",
    "df_merged = pd.merge(df_slurp, df_kf, on=['sample', 'depth_rounded'], how='outer', suffixes=('_slurp', '_kf'))\n",
    "\n",
    "# Drop the temporary rounded depth column if not needed anymore\n",
    "df_merged.drop('depth_rounded', axis=1, inplace=True)\n",
    "df_merged['depth_sat_zone']"
   ]
  },
  {
   "cell_type": "code",
   "execution_count": 16,
   "id": "daa201a6-3511-47f1-9f98-7e6c04f25b70",
   "metadata": {},
   "outputs": [
    {
     "data": {
      "text/plain": [
       "Index(['Unnamed: 0_slurp', 'sample', 'Profile ID', 'profile_location',\n",
       "       'samp_method', 'date', 'lat', 'lon', 'd10', 'd16', 'd25', 'd30', 'd50',\n",
       "       'd60', 'd75', 'd84', 'd90', 'Mean Grain Size dm [mm]',\n",
       "       'Geometrical mean dg [mm]', 'Sorting Index 1 ds', 'Fredle - Index',\n",
       "       'Grain Size std', 'Geometric Standard Deviation', 'Skewness',\n",
       "       'Kurtosis', 'Coefficient of uniformity - Cu',\n",
       "       'Curvature coefficient - Cc', 'Carling and Reader (1982) [Porosity]',\n",
       "       'Wu and Wang (2006) [Porosity]', 'Wooster et al. (2008) [Porosity]',\n",
       "       'Frings et al. (2011)  [Porosity]', 'User input [Porosity]',\n",
       "       'Carling and Reader (1982) [Estimated kf]',\n",
       "       'Wu and Wang (2006) [Estimated kf]',\n",
       "       'Wooster et al. (2008) [Estimated kf]_slurp',\n",
       "       'Frings et al. (2011)  [Estimated kf]', 'User input [Estimated kf]',\n",
       "       '250', '125', '63', '31.5', '16', '8', '4', '2', '1', '0.5', '0.25',\n",
       "       '0.125', '0.063', '0.031', '0.0039', '6.00E-05', 'dp_position', 'H_m',\n",
       "       'depth_slurp', 'comment', 'slurp_rate1', 'slurp_rate2', 'slurp_rate3',\n",
       "       'slurp_rate4', 'slurp_rate_final', 'wl', 'wl_stick', 'z_bed',\n",
       "       'z_watersurface', 'lz', 'operator', 'Unnamed: 0_kf', 'site_name',\n",
       "       'depth_kf', 'depth_sat_zone', 'wl_only_unsat',\n",
       "       'Wooster et al. (2008) [Estimated kf]_kf'],\n",
       "      dtype='object')"
      ]
     },
     "execution_count": 16,
     "metadata": {},
     "output_type": "execute_result"
    }
   ],
   "source": [
    "df_merged.columns"
   ]
  },
  {
   "cell_type": "code",
   "execution_count": 17,
   "id": "303c5a39-2d6a-4ddc-ad78-2b54785eeda2",
   "metadata": {},
   "outputs": [
    {
     "data": {
      "text/plain": [
       "array(['A', 'B', 'C', '474-V', '474.1-S', '474.2', nan, '474.5', '474.6'],\n",
       "      dtype=object)"
      ]
     },
     "execution_count": 17,
     "metadata": {},
     "output_type": "execute_result"
    }
   ],
   "source": [
    "df_merged = df_merged.dropna(subset=['Wooster et al. (2008) [Estimated kf]_kf'])\n",
    "df_merged['Profile ID'].unique()"
   ]
  },
  {
   "cell_type": "code",
   "execution_count": 18,
   "id": "6c2b3ef9-9715-40dd-9a91-99a7279a873b",
   "metadata": {},
   "outputs": [],
   "source": [
    "# Define  conditions\n",
    "rr_ids = ['A', 'B', 'C']\n",
    "kn_ids = ['474-V', '474.1-S', '474.2', '474.5', '474.6']\n",
    "\n",
    "# Create new column based on conditions\n",
    "df_merged['site'] = df_merged['Profile ID'].apply(\n",
    "    lambda x: 'RR' if x in rr_ids else ('KN' if x in kn_ids else None)\n",
    ")"
   ]
  },
  {
   "cell_type": "code",
   "execution_count": 20,
   "id": "4493dd7e-58d6-4058-ba50-774cfb11315a",
   "metadata": {},
   "outputs": [
    {
     "name": "stdout",
     "output_type": "stream",
     "text": [
      "Kruskal-Wallis H-test result: H = 117.117, p = 0.0000\n"
     ]
    },
    {
     "data": {
      "text/plain": [
       "<Figure size 800x600 with 0 Axes>"
      ]
     },
     "metadata": {},
     "output_type": "display_data"
    },
    {
     "data": {
      "image/png": "[encoded data removed]",
      "text/plain": [
       "<Figure size 640x480 with 1 Axes>"
      ]
     },
     "metadata": {},
     "output_type": "display_data"
    }
   ],
   "source": [
    "# Group data\n",
    "rr_values = df_merged[df_merged['site'] == 'RR']['Frings et al. (2011)  [Estimated kf]']\n",
    "kn_values = df_merged[df_merged['site'] == 'KN']['Frings et al. (2011)  [Estimated kf]']\n",
    "\n",
    "# Kruskal-Wallis Test\n",
    "stat, p_value = kruskal(rr_values, kn_values)\n",
    "\n",
    "# Print test results\n",
    "print(f\"Kruskal-Wallis H-test result: H = {stat:.3f}, p = {p_value:.4f}\")\n",
    "\n",
    "# Boxplot\n",
    "plt.figure(figsize=(8, 6))\n",
    "df_merged.boxplot(\n",
    "    column='Wooster et al. (2008) [Estimated kf]_slurp',\n",
    "    by='site',\n",
    "    grid=False\n",
    ")\n",
    "plt.title('Comparison of Estimated kf by Group')\n",
    "plt.suptitle('')\n",
    "plt.xlabel('Group')\n",
    "plt.ylabel('Estimated kf')\n",
    "plt.show()"
   ]
  },
  {
   "cell_type": "code",
   "execution_count": 7,
   "id": "1fcb8bf9-40ad-42c9-9dbd-e57fadb48317",
   "metadata": {},
   "outputs": [
    {
     "data": {
      "text/plain": [
       "0.000947046"
      ]
     },
     "execution_count": 7,
     "metadata": {},
     "output_type": "execute_result"
    }
   ],
   "source": [
    "rr_values.median()"
   ]
  },
  {
   "cell_type": "code",
   "execution_count": 8,
   "id": "f69791bb-20d5-4c8b-a3c7-e9e6a1077065",
   "metadata": {},
   "outputs": [
    {
     "data": {
      "text/plain": [
       "0.001074077"
      ]
     },
     "execution_count": 8,
     "metadata": {},
     "output_type": "execute_result"
    }
   ],
   "source": [
    "kn_values.median()"
   ]
  },
  {
   "cell_type": "code",
   "execution_count": 10,
   "id": "d367f99e-1201-43e3-8fb6-fd29be27c946",
   "metadata": {},
   "outputs": [
    {
     "name": "stdout",
     "output_type": "stream",
     "text": [
      "Kruskal-Wallis H-test result: H = 10.194, p = 0.0014\n"
     ]
    },
    {
     "data": {
      "text/plain": [
       "<Figure size 800x600 with 0 Axes>"
      ]
     },
     "metadata": {},
     "output_type": "display_data"
    },
    {
     "data": {
      "image/png": "[encoded data removed]",
      "text/plain": [
       "<Figure size 640x480 with 1 Axes>"
      ]
     },
     "metadata": {},
     "output_type": "display_data"
    }
   ],
   "source": [
    "# Group data\n",
    "df_surf = df_merged[df_merged['depth_sat_zone']<0.15]\n",
    "rr_values = df_surf[df_surf['site'] == 'RR']['slurp_rate_final']\n",
    "kn_values = df_surf[df_surf['site'] == 'KN']['slurp_rate_final']\n",
    "\n",
    "# Kruskal-Wallis Test\n",
    "stat, p_value = kruskal(rr_values, kn_values)\n",
    "\n",
    "# Print test results\n",
    "print(f\"Kruskal-Wallis H-test result: H = {stat:.3f}, p = {p_value:.4f}\")\n",
    "\n",
    "# Boxplot\n",
    "plt.figure(figsize=(8, 6))\n",
    "df_surf.boxplot(\n",
    "    column='slurp_rate_final',\n",
    "    by='site',\n",
    "    grid=False\n",
    ")\n",
    "plt.title('Comparison of Estimated sr by Group')\n",
    "plt.suptitle('')\n",
    "plt.xlabel('Group')\n",
    "plt.ylabel('slurp_rate_final')\n",
    "plt.show()"
   ]
  },
  {
   "cell_type": "code",
   "execution_count": 12,
   "id": "63cd4f27-2520-44a4-a1b3-c1a45db3a510",
   "metadata": {},
   "outputs": [
    {
     "name": "stdout",
     "output_type": "stream",
     "text": [
      "Kruskal-Wallis H-test result: H = 2.175, p = 0.1403\n"
     ]
    },
    {
     "data": {
      "text/plain": [
       "<Figure size 800x600 with 0 Axes>"
      ]
     },
     "metadata": {},
     "output_type": "display_data"
    },
    {
     "data": {
      "image/png": "[encoded data removed]",
      "text/plain": [
       "<Figure size 640x480 with 1 Axes>"
      ]
     },
     "metadata": {},
     "output_type": "display_data"
    }
   ],
   "source": [
    "# Group data\n",
    "df_subsurf = df_merged[df_merged['depth_sat_zone']>0.15]\n",
    "rr_values = df_subsurf[df_subsurf['site'] == 'RR']['slurp_rate_final']\n",
    "kn_values = df_subsurf[df_subsurf['site'] == 'KN']['slurp_rate_final']\n",
    "\n",
    "# Kruskal-Wallis Test\n",
    "stat, p_value = kruskal(rr_values, kn_values)\n",
    "\n",
    "# Print test results\n",
    "print(f\"Kruskal-Wallis H-test result: H = {stat:.3f}, p = {p_value:.4f}\")\n",
    "\n",
    "# Boxplot\n",
    "plt.figure(figsize=(8, 6))\n",
    "df_subsurf.boxplot(\n",
    "    column='slurp_rate_final',\n",
    "    by='site',\n",
    "    grid=False\n",
    ")\n",
    "plt.title('Comparison of Estimated sr by Group')\n",
    "plt.suptitle('')\n",
    "plt.xlabel('Group')\n",
    "plt.ylabel('slurp_rate_final')\n",
    "plt.show()"
   ]
  },
  {
   "cell_type": "code",
   "execution_count": null,
   "id": "016bf5e3-f08e-41b7-8c1a-e723553eb699",
   "metadata": {},
   "outputs": [],
   "source": []
  }
 ],
 "metadata": {
  "kernelspec": {
   "display_name": "Python 3 (ipykernel)",
   "language": "python",
   "name": "python3"
  },
  "language_info": {
   "codemirror_mode": {
    "name": "ipython",
    "version": 3
   },
   "file_extension": ".py",
   "mimetype": "text/x-python",
   "name": "python",
   "nbconvert_exporter": "python",
   "pygments_lexer": "ipython3",
   "version": "3.9.20"
  }
 },
 "nbformat": 4,
 "nbformat_minor": 5
}
